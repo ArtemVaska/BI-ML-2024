{
 "nbformat": 4,
 "nbformat_minor": 0,
 "metadata": {
  "colab": {
   "provenance": [],
   "authorship_tag": "ABX9TyN3ji5dthhFgQhP1CJ7JjiU",
   "include_colab_link": true
  },
  "kernelspec": {
   "name": "python3",
   "display_name": "Python 3 (ipykernel)",
   "language": "python"
  },
  "language_info": {
   "name": "python"
  }
 },
 "cells": [
  {
   "cell_type": "markdown",
   "metadata": {
    "id": "view-in-github",
    "colab_type": "text"
   },
   "source": [
    "<a href=\"https://colab.research.google.com/github/danon6868/BI-ml-2024/blob/main/lecture_8_pytorch/homework/FC_NN_practice.ipynb\" target=\"_parent\"><img src=\"https://colab.research.google.com/assets/colab-badge.svg\" alt=\"Open In Colab\"/></a>"
   ]
  },
  {
   "cell_type": "markdown",
   "source": [
    "Всем привет! Сегодня вы впервые попробуете написать свою собственную нейронную сеть и попробовать ее обучить. Мы будем работать с картинками, но пока что не совсем тем способом, которым лучше всего это делать, но должно получиться неплохо.\n",
    "\n",
    "Будем работать с [датасетом](https://github.com/rois-codh/kmnist) `Kuzushiji-MNIST` (`KMNIST`). Это рукописные буквы, изображения имеют размер (28, 28, 1) и разделены на 10 классов, по ссылке можно прочитать подробнее."
   ],
   "metadata": {
    "id": "-pSGPQS8Btmc"
   }
  },
  {
   "cell_type": "code",
   "source": [
    "import matplotlib.pyplot as plt\n",
    "import torch\n",
    "import torch.nn as nn\n",
    "import torch.nn.functional as F\n",
    "\n",
    "from IPython.display import clear_output"
   ],
   "metadata": {
    "id": "75HVAP_RFU7r",
    "ExecuteTime": {
     "end_time": "2024-05-25T11:33:56.750981Z",
     "start_time": "2024-05-25T11:33:55.677889Z"
    }
   },
   "outputs": [],
   "execution_count": 1
  },
  {
   "cell_type": "markdown",
   "source": [
    "## Загрузка данных"
   ],
   "metadata": {
    "id": "46iQ8ixtEruP"
   }
  },
  {
   "cell_type": "markdown",
   "source": [
    "Сейчас мы будем использовать встроенные данные, но в реальности приходится писать свой класс для датасета (Dataset), у которого реализовывать несколько обязательных методов (напр, `__getitem__`), но это обсудим уже потом."
   ],
   "metadata": {
    "id": "R6h1jVreJlV-"
   }
  },
  {
   "cell_type": "code",
   "metadata": {
    "id": "s9L9Z02o_1bK"
   },
   "source": [
    "import torchvision\n",
    "from torchvision.datasets import KMNIST\n",
    "\n",
    "\n",
    "# Превращает картинки в тензоры\n",
    "transform = torchvision.transforms.Compose(\n",
    "    [torchvision.transforms.ToTensor()])\n",
    "\n",
    "# Загрузим данные (в переменных лежат объекты типа `Dataset`)\n",
    "# В аргумент `transform` мы передаем необходимые трансформации (ToTensor)\n",
    "trainset = KMNIST(root=\"../data/KMNIST\", train=True, download=True, transform=transform)\n",
    "testset = KMNIST(root=\"../data/KMNIST\", train=False, download=True, transform=transform)\n",
    "\n",
    "clear_output()"
   ],
   "execution_count": 2,
   "outputs": []
  },
  {
   "cell_type": "markdown",
   "source": [
    "Определим даталоадеры, они нужны, чтобы реализовывать стохастический градиентный спуск (то есть мы не хотим считывать в оперативную память все картинки сразу, а делать это батчами)."
   ],
   "metadata": {
    "id": "V83E2vDrO9CC"
   }
  },
  {
   "cell_type": "code",
   "source": [
    "from torch.utils.data import DataLoader\n",
    "\n",
    "\n",
    "# Можно оставить таким\n",
    "batch_size = 256\n",
    "\n",
    "trainloader = DataLoader(trainset, batch_size=batch_size, shuffle=True, num_workers=2)\n",
    "testloader = DataLoader(testset, batch_size=batch_size, shuffle=False, num_workers=2)"
   ],
   "metadata": {
    "id": "oqC8XO8pO8Px",
    "ExecuteTime": {
     "end_time": "2024-05-25T11:33:57.187827Z",
     "start_time": "2024-05-25T11:33:57.185709Z"
    }
   },
   "outputs": [],
   "execution_count": 3
  },
  {
   "cell_type": "markdown",
   "source": [
    "Подумайте, как может влиять на скорость обучения параметр `batch_size`, почему вы так считаете?\n",
    "\n",
    "**Ответ:** \n",
    "- чем меньшего размера будут создаваться батчи, тем больше времени будет это занимать, т.к. модель учится на каждом батче, и мы сильнее будем отклоняться от минимума функции потерь\n",
    "- чем большего размера будут создаваться батчи, тем меньше времени нужно будет модели, но тут все упирается в оперативку"
   ],
   "metadata": {
    "id": "-Ntp5sLoPyGx"
   }
  },
  {
   "cell_type": "markdown",
   "source": [
    "Посмотрим на какую-нибудь картинку:"
   ],
   "metadata": {
    "id": "t2vmM4KaHvrs"
   }
  },
  {
   "cell_type": "code",
   "source": [
    "plt.imshow(trainset[0][0].view(28, 28).numpy(), cmap=\"gray\")\n",
    "plt.axis(\"off\")\n",
    "plt.title(f\"Class is {trainset[0][1]}\", fontsize=16);"
   ],
   "metadata": {
    "colab": {
     "base_uri": "https://localhost:8080/",
     "height": 266
    },
    "id": "N-b-kFCYAoOP",
    "outputId": "d077a35b-f874-40c2-e1da-1f461c11172f",
    "ExecuteTime": {
     "end_time": "2024-05-25T11:33:57.236843Z",
     "start_time": "2024-05-25T11:33:57.188720Z"
    }
   },
   "outputs": [
    {
     "data": {
      "text/plain": [
       "<Figure size 640x480 with 1 Axes>"
      ],
      "image/png": "[encoded data removed]"
     },
     "metadata": {},
     "output_type": "display_data"
    }
   ],
   "execution_count": 4
  },
  {
   "cell_type": "markdown",
   "source": [
    "### Задание 1. Смотрим на картинки\n",
    "\n",
    "**2** балла\n",
    "\n",
    "Нарисуйте на одном графике изображения всех 10 классов:"
   ],
   "metadata": {
    "id": "8_MSY231Hzz9"
   }
  },
  {
   "cell_type": "markdown",
   "source": [
    "⣿⣿⣿⣿⣿⣿⠿⢋⣥⣴⣶⣶⣶⣬⣙⠻⠟⣋⣭⣭⣭⣭⡙⠻⣿⣿⣿⣿⣿\n",
    "⣿⣿⣿⣿⡿⢋⣴⣿⣿⠿⢟⣛⣛⣛⠿⢷⡹⣿⣿⣿⣿⣿⣿⣆⠹⣿⣿⣿⣿\n",
    "⣿⣿⣿⡿⢁⣾⣿⣿⣴⣿⣿⣿⣿⠿⠿⠷⠥⠱⣶⣶⣶⣶⡶⠮⠤⣌⡙⢿⣿\n",
    "⣿⡿⢛⡁⣾⣿⣿⣿⡿⢟⡫⢕⣪⡭⠥⢭⣭⣉⡂⣉⡒⣤⡭⡉⠩⣥⣰⠂⠹\n",
    "⡟⢠⣿⣱⣿⣿⣿⣏⣛⢲⣾⣿⠃⠄⠐⠈⣿⣿⣿⣿⣿⣿⠄⠁⠃⢸⣿⣿⡧\n",
    "⢠⣿⣿⣿⣿⣿⣿⣿⣿⣇⣊⠙⠳⠤⠤⠾⣟⠛⠍⣹⣛⣛⣢⣀⣠⣛⡯⢉⣰\n",
    "⣿⣿⣿⣿⣿⣿⣿⣿⣿⣿⣿⣿⣷⡶⠶⢒⣠⣼⣿⣿⣛⠻⠛⢛⣛⠉⣴⣿⣿\n",
    "⣿⣿⣿⣿⣿⣿⣿⡿⢛⡛⢿⣿⣿⣶⣿⣿⣿⣿⣿⣿⣿⣿⣿⣿⣿⣷⡈⢿⣿\n",
    "⣿⣿⣿⣿⣿⣿⣿⠸⣿⡻⢷⣍⣛⠻⠿⠿⣿⣿⣿⣿⣿⣿⣿⣿⣿⠿⢇⡘⣿\n",
    "⣿⣿⣿⣿⣿⣿⣿⣷⣝⠻⠶⣬⣍⣛⣛⠓⠶⠶⠶⠤⠬⠭⠤⠶⠶⠞⠛⣡⣿\n",
    "⢿⣿⣿⣿⣿⣿⣿⣿⣿⣿⣷⣶⣬⣭⣍⣙⣛⣛⣛⠛⠛⠛⠿⠿⠿⠛⣠⣿⣿\n",
    "⣦⣈⠉⢛⠻⠿⠿⢿⣿⣿⣿⣿⣿⣿⣿⣿⣿⣿⣿⡿⠿⠛⣁⣴⣾⣿⣿⣿⣿\n",
    "⣿⣿⣿⣶⣮⣭⣁⣒⣒⣒⠂⠠⠬⠭⠭⠭⢀⣀⣠⣄⡘⠿⣿⣿⣿⣿⣿⣿⣿\n",
    "⣿⣿⣿⣿⣿⣿⣿⣿⣿⣿⣿⣿⣿⣿⣿⣿⣿⣿⣿⣿⣿⣦⡈⢿⣿⣿⣿⣿⣿\n",
    "\n",
    "\n",
    "\n"
   ],
   "metadata": {
    "id": "j0tNdHM5JS6l"
   }
  },
  {
   "cell_type": "code",
   "source": [
    "j = 0\n",
    "images = []\n",
    "\n",
    "for i, image in enumerate(trainset):\n",
    "    if trainset[i][1] == j:\n",
    "        images.append(image[0][0].view(28, 28).numpy())\n",
    "        j += 1\n",
    "        if j > 9:\n",
    "            break\n",
    "\n",
    "len(images)"
   ],
   "metadata": {
    "id": "x3j6Bsu9AoT6",
    "ExecuteTime": {
     "end_time": "2024-05-25T11:33:57.250608Z",
     "start_time": "2024-05-25T11:33:57.237630Z"
    }
   },
   "outputs": [
    {
     "data": {
      "text/plain": [
       "10"
      ]
     },
     "execution_count": 5,
     "metadata": {},
     "output_type": "execute_result"
    }
   ],
   "execution_count": 5
  },
  {
   "metadata": {
    "ExecuteTime": {
     "end_time": "2024-05-25T11:33:58.234150Z",
     "start_time": "2024-05-25T11:33:57.251255Z"
    }
   },
   "cell_type": "code",
   "source": [
    "plt.figure(figsize=(12, 6))\n",
    "\n",
    "for i, image in enumerate(images):\n",
    "    plt.subplot(2, 5, i+1)\n",
    "    plt.imshow(image, cmap=\"gray\")\n",
    "    plt.title(f\"Class {i}\", fontsize=16)\n",
    "    plt.tight_layout()"
   ],
   "outputs": [
    {
     "data": {
      "text/plain": [
       "<Figure size 1200x600 with 10 Axes>"
      ],
      "image/png": "[encoded data removed]"
     },
     "metadata": {},
     "output_type": "display_data"
    }
   ],
   "execution_count": 6
  },
  {
   "cell_type": "markdown",
   "source": [
    "### Задание 2. Строим свой первый MLP\n",
    "\n",
    "**4** балла\n",
    "\n",
    "MLP (multilayer perceptron) или нейронная сеть из полносвязных (линейных) слоев, это мы уже знаем.\n",
    "\n",
    "Опишите структуру сети: 3 полносвязных слоя + функции активации на ваш выбор. **Подумайте** про активацию после последнего слоя!\n",
    "\n",
    "Сеть на выходе 1 слоя должна иметь 256 признаков, на выходе из 2 128 признаков, на выходе из последнего столько, сколько у вас классов.\n",
    "\n",
    "https://pytorch.org/docs/stable/nn.html?highlight=activation#non-linear-activations-weighted-sum-nonlinearity"
   ],
   "metadata": {
    "id": "dLCfnFW-JtGx"
   }
  },
  {
   "cell_type": "code",
   "source": [
    "class FCNet(nn.Module):\n",
    "    def __init__(self):\n",
    "        super().__init__() #  это надо помнить!\n",
    "        self.fc1 = nn.Linear(in_features=28*28, out_features=256)\n",
    "        self.fc2 = nn.Linear(in_features=256, out_features=128)\n",
    "        self.fc3 = nn.Linear(in_features=128, out_features=10)\n",
    "\n",
    "    def forward(self, x):  # Forward вызывается внутри метода __call__ родительского класса\n",
    "        ## x -> тензор размерности (BATCH_SIZE, N_CHANNELS, WIDTH, HEIGHT)\n",
    "        ## надо подумать над тем, что у нас полносвязные слои принимают векторы\n",
    "        x = x.view(-1, 28*28)\n",
    "        x = self.fc1(x)\n",
    "        x = F.relu(x)\n",
    "        x = self.fc2(x)\n",
    "        x = F.relu(x)\n",
    "        logits = self.fc3(x)\n",
    "\n",
    "        return logits"
   ],
   "metadata": {
    "id": "dhYBvQIXJdSz",
    "ExecuteTime": {
     "end_time": "2024-05-25T11:33:58.237380Z",
     "start_time": "2024-05-25T11:33:58.234817Z"
    }
   },
   "outputs": [],
   "execution_count": 7
  },
  {
   "cell_type": "markdown",
   "source": [
    "Сколько обучаемых параметров у вашей модели (весов и смещений)?\n",
    "\n",
    "**Ответ:**"
   ],
   "metadata": {
    "id": "uI0R77EQNKef"
   }
  },
  {
   "cell_type": "code",
   "source": [
    "print(\"Кол-во весов:\", 28*28*256 + 256*128 + 128*10)\n",
    "print(\"Кол-во смещений:\", 256 + 128 + 10)"
   ],
   "metadata": {
    "id": "MvGiuoykrzzJ",
    "ExecuteTime": {
     "end_time": "2024-05-25T11:33:58.242933Z",
     "start_time": "2024-05-25T11:33:58.237920Z"
    }
   },
   "outputs": [
    {
     "name": "stdout",
     "output_type": "stream",
     "text": [
      "Кол-во весов: 234752\n",
      "Кол-во смещений: 394\n"
     ]
    }
   ],
   "execution_count": 8
  },
  {
   "cell_type": "markdown",
   "source": [
    "### Задание 3. Напишите код для обучения модели\n",
    "\n",
    "**5** баллов\n",
    "\n",
    "Можно (и нужно) подглядывать в код семинара по пайторчу. Вам нужно создать модель, определить функцию потерь и оптимизатор (начнем с `SGD`). Дальше нужно обучать модель, при помощи тренировочного `Dataloader'a` и считать лосс на тренировочном и тестовом `Dataloader'ах`."
   ],
   "metadata": {
    "id": "iwGllji2M4lp"
   }
  },
  {
   "cell_type": "markdown",
   "source": [
    "Напишем функцию для рассчета `accuracy`:"
   ],
   "metadata": {
    "id": "Grv9xcybRfCX"
   }
  },
  {
   "cell_type": "code",
   "source": [
    "def get_accuracy(model, dataloader):\n",
    "    \"\"\"\n",
    "    model - обученная нейронная сеть\n",
    "    dataloader - даталоадер, на котором вы хотите посчитать accuracy\n",
    "    \"\"\"\n",
    "    correct = 0\n",
    "    total = 0\n",
    "    with torch.no_grad(): # Тензоры внутри этого блока будут иметь requires_grad=False\n",
    "        for images, labels in dataloader:\n",
    "            outputs = model(images)\n",
    "            _, predicted = torch.max(outputs.data, 1)\n",
    "            total += labels.size(0)\n",
    "            correct += (predicted == labels).sum().item()\n",
    "    accuracy = correct / total\n",
    "\n",
    "    return accuracy"
   ],
   "metadata": {
    "id": "9D2QPFe5JdVc",
    "ExecuteTime": {
     "end_time": "2024-05-25T11:33:58.245841Z",
     "start_time": "2024-05-25T11:33:58.243483Z"
    }
   },
   "outputs": [],
   "execution_count": 9
  },
  {
   "cell_type": "markdown",
   "source": [
    "#### Основной цикл обучения\n",
    "\n",
    "Этот код можно (и зачастую нужно) выносить в отдельную функцию, но пока что можете это не делать, все по желанию)"
   ],
   "metadata": {
    "id": "D3EmoWJyTBkE"
   }
  },
  {
   "cell_type": "code",
   "source": [
    "# Создадим объект модели\n",
    "fc_net = FCNet()\n",
    "# Определим функцию потерь\n",
    "loss_function = nn.CrossEntropyLoss()\n",
    "# Создадим оптимизатор для нашей сети\n",
    "lr = 0.001 # скорость обучения\n",
    "optimizer = torch.optim.Adam(fc_net.parameters(), lr=3e-4)"
   ],
   "metadata": {
    "id": "uIZKSOdgUi3e",
    "ExecuteTime": {
     "end_time": "2024-05-25T11:33:58.250215Z",
     "start_time": "2024-05-25T11:33:58.246923Z"
    }
   },
   "outputs": [],
   "execution_count": 10
  },
  {
   "metadata": {},
   "cell_type": "markdown",
   "source": [
    "> Если в `optimizer` поставить `SGD` с `lr=0.001` (как на консультации), то `accuracy` 30% :(\n",
    ">\n",
    "> Оставлю `Adam`"
   ]
  },
  {
   "cell_type": "markdown",
   "source": [
    "Напишите цикл обучения. Для начала хватит 10 эпох. Какое значение `accuracy` на тестовой выборке удалось получить?"
   ],
   "metadata": {
    "id": "uKYzXFqoX_fd"
   }
  },
  {
   "cell_type": "code",
   "source": [
    "%%time\n",
    "\n",
    "n_epochs = 10\n",
    "loss_history = []\n",
    "for epoch in range(n_epochs):\n",
    "    epoch_loss = 0\n",
    "    for images, labels in trainloader: # получаем батч тренировочных картинок\n",
    "        optimizer.zero_grad() # чтобы не было как в лог регрессии, когда мы не обнуляли градиенты\n",
    "        outputs = fc_net(images) # делаем предсказания\n",
    "        loss = loss_function(outputs, labels) # считаем лосс\n",
    "        loss.backward() # считаем градиенты\n",
    "        optimizer.step() # делаем шаг градиентного спуска\n",
    "\n",
    "        epoch_loss += loss.item()\n",
    "\n",
    "    loss_history.append(epoch_loss/len(trainloader))\n",
    "\n",
    "    print(f\"Epoch={epoch+1} loss={loss_history[epoch]:.4f}\")"
   ],
   "metadata": {
    "id": "Ma2bshC6MxI6",
    "ExecuteTime": {
     "end_time": "2024-05-25T11:34:17.329518Z",
     "start_time": "2024-05-25T11:33:58.250773Z"
    }
   },
   "outputs": [
    {
     "name": "stdout",
     "output_type": "stream",
     "text": [
      "Epoch=1 loss=0.8967\n",
      "Epoch=2 loss=0.4350\n",
      "Epoch=3 loss=0.3449\n",
      "Epoch=4 loss=0.2890\n",
      "Epoch=5 loss=0.2488\n",
      "Epoch=6 loss=0.2148\n",
      "Epoch=7 loss=0.1877\n",
      "Epoch=8 loss=0.1648\n",
      "Epoch=9 loss=0.1446\n",
      "Epoch=10 loss=0.1272\n",
      "CPU times: user 2min 1s, sys: 1.04 s, total: 2min 2s\n",
      "Wall time: 19.1 s\n"
     ]
    }
   ],
   "execution_count": 11
  },
  {
   "cell_type": "code",
   "source": [
    "get_accuracy(fc_net, testloader)"
   ],
   "metadata": {
    "id": "2cB5LRbrS3BN",
    "ExecuteTime": {
     "end_time": "2024-05-25T11:34:17.657515Z",
     "start_time": "2024-05-25T11:34:17.330230Z"
    }
   },
   "outputs": [
    {
     "data": {
      "text/plain": [
       "0.8787"
      ]
     },
     "execution_count": 12,
     "metadata": {},
     "output_type": "execute_result"
    }
   ],
   "execution_count": 12
  },
  {
   "metadata": {},
   "cell_type": "markdown",
   "source": "> Лучший скор, который удалось получить `0.8942` (несколько перезапусков, полный рандом)"
  },
  {
   "cell_type": "markdown",
   "source": [
    "### Задание 4. Изучение влияния нормализации\n",
    "\n",
    "**3** балла\n",
    "\n",
    "Вы могли заметить, что мы забыли провести нормализацию наших данных, а для нейронных сетей это может быть очень критично.\n",
    "\n",
    "Нормализуйте данные.\n",
    "\n",
    "* Подсчитайте среднее значение и стандартное отклонение интенсивности пикселей для всех тренировочных данных\n",
    "* Нормализуйте данные с использованием этих параметров (используйте трансформацию `Normalize`)\n",
    "\n",
    "\n",
    "Оцените влияние нормировки данных."
   ],
   "metadata": {
    "id": "4HTJzBM8Yk1R"
   }
  },
  {
   "cell_type": "code",
   "source": [
    "length = len(trainloader)\n",
    "\n",
    "means = [images.mean() for images, labels in trainloader]\n",
    "mean = sum(means) / length ## calculate mean\n",
    "\n",
    "stds = [images.std() for images, labels in trainloader]\n",
    "std = sum(stds) / length ## calculate std\n",
    "\n",
    "print(mean, std)\n",
    "\n",
    "transform_with_norm = torchvision.transforms.Compose([\n",
    "                torchvision.transforms.ToTensor(),\n",
    "                torchvision.transforms.Normalize(mean, std)\n",
    "            ])\n",
    "\n",
    "trainset.transform = transform_with_norm\n",
    "testset.transform = transform_with_norm"
   ],
   "metadata": {
    "id": "FHlDaYWGR6YA",
    "ExecuteTime": {
     "end_time": "2024-05-25T11:34:21.272535Z",
     "start_time": "2024-05-25T11:34:17.658210Z"
    }
   },
   "outputs": [
    {
     "name": "stdout",
     "output_type": "stream",
     "text": [
      "tensor(0.1918) tensor(0.3483)\n"
     ]
    }
   ],
   "execution_count": 13
  },
  {
   "cell_type": "code",
   "source": [
    "fc_net = FCNet()\n",
    "loss_function = nn.CrossEntropyLoss()\n",
    "lr = 0.001\n",
    "optimizer = torch.optim.Adam(fc_net.parameters(), lr=3e-4)"
   ],
   "metadata": {
    "id": "Qj93J3X_R6aa",
    "ExecuteTime": {
     "end_time": "2024-05-25T11:34:21.276200Z",
     "start_time": "2024-05-25T11:34:21.273202Z"
    }
   },
   "outputs": [],
   "execution_count": 14
  },
  {
   "cell_type": "code",
   "source": [
    "n_epochs = 10\n",
    "loss_history = []\n",
    "\n",
    "for epoch in range(n_epochs):\n",
    "    epoch_loss = 0\n",
    "    for images, labels in trainloader: # получаем батч тренировочных картинок\n",
    "        optimizer.zero_grad() # чтобы не было как в лог регрессии, когда мы не обнуляли градиенты\n",
    "        outputs = fc_net(images) # делаем предсказания\n",
    "        loss = loss_function(outputs, labels) # считаем лосс\n",
    "        loss.backward() # считаем градиенты\n",
    "        optimizer.step() # делаем шаг градиентного спуска\n",
    "\n",
    "        epoch_loss += loss.item()\n",
    "\n",
    "    loss_history.append(epoch_loss/len(trainloader))\n",
    "\n",
    "    print(f\"Epoch={epoch+1} loss={loss_history[epoch]:.4f}\")"
   ],
   "metadata": {
    "id": "VWZtYBCvAoWQ",
    "ExecuteTime": {
     "end_time": "2024-05-25T11:34:49.256773Z",
     "start_time": "2024-05-25T11:34:21.276688Z"
    }
   },
   "outputs": [
    {
     "name": "stdout",
     "output_type": "stream",
     "text": [
      "Epoch=1 loss=0.6872\n",
      "Epoch=2 loss=0.3064\n",
      "Epoch=3 loss=0.2254\n",
      "Epoch=4 loss=0.1765\n",
      "Epoch=5 loss=0.1406\n",
      "Epoch=6 loss=0.1142\n",
      "Epoch=7 loss=0.0945\n",
      "Epoch=8 loss=0.0777\n",
      "Epoch=9 loss=0.0631\n",
      "Epoch=10 loss=0.0509\n"
     ]
    }
   ],
   "execution_count": 15
  },
  {
   "cell_type": "code",
   "source": [
    "get_accuracy(fc_net, testloader)"
   ],
   "metadata": {
    "id": "Gfbv9OIAAoYT",
    "ExecuteTime": {
     "end_time": "2024-05-25T11:34:49.790110Z",
     "start_time": "2024-05-25T11:34:49.257509Z"
    }
   },
   "outputs": [
    {
     "data": {
      "text/plain": [
       "0.8979"
      ]
     },
     "execution_count": 16,
     "metadata": {},
     "output_type": "execute_result"
    }
   ],
   "execution_count": 16
  },
  {
   "cell_type": "markdown",
   "source": [
    "Как изменилась `accuracy` после нормализации?"
   ],
   "metadata": {
    "id": "RcIJvhWkcjlh"
   }
  },
  {
   "metadata": {},
   "cell_type": "markdown",
   "source": "> Даже несмотря на то, что в начале loss-функция была больше, чем в предыдущем примере (там прям нормально повезло), итоговая `accuracy` стала выше, т.е. нормализация данных помогла"
  },
  {
   "cell_type": "markdown",
   "source": [
    "### Задание 5. Изучение влияния функции активации\n",
    "\n",
    "**3** балла\n",
    "\n",
    "Исследуйте влияние функций активации на скорость обучения и точность предсказаний модели.\n",
    "\n",
    "Используйте три функции:\n",
    "\n",
    "* [Sigmoid](https://pytorch.org/docs/stable/nn.functional.html#sigmoid)\n",
    "* [GELU](https://pytorch.org/docs/stable/nn.functional.html#gelu)\n",
    "* [Tanh](https://pytorch.org/docs/stable/generated/torch.nn.Tanh.html#torch.nn.Tanh)"
   ],
   "metadata": {
    "id": "atcfzu4acxP2"
   }
  },
  {
   "metadata": {},
   "cell_type": "markdown",
   "source": "> Апдейтнем класс для нашей NN"
  },
  {
   "cell_type": "code",
   "source": [
    "class FCNet(nn.Module):\n",
    "    def __init__(self, activation=F.relu):\n",
    "        super().__init__() #  это надо помнить!\n",
    "        self.fc1 = nn.Linear(in_features=28*28, out_features=256)\n",
    "        self.fc2 = nn.Linear(in_features=256, out_features=128)\n",
    "        self.fc3 = nn.Linear(in_features=128, out_features=10)\n",
    "        self.activation = activation\n",
    "\n",
    "    def forward(self, x):  # Forward вызывается внутри метода __call__ родительского класса\n",
    "        ## x -> тензор размерности (BATCH_SIZE, N_CHANNELS, WIDTH, HEIGHT)\n",
    "        x = x.view(-1, 28*28)\n",
    "        x = self.fc1(x)\n",
    "        x = self.activation(x)\n",
    "        x = self.fc2(x)\n",
    "        x = self.activation(x)\n",
    "        logits = self.fc3(x)\n",
    "\n",
    "        return logits"
   ],
   "metadata": {
    "id": "bAESPpjGa3M1",
    "ExecuteTime": {
     "end_time": "2024-05-25T11:34:49.793529Z",
     "start_time": "2024-05-25T11:34:49.790837Z"
    }
   },
   "outputs": [],
   "execution_count": 17
  },
  {
   "cell_type": "code",
   "source": [
    "n_epochs = 10\n",
    "activation_funcs = [nn.Sigmoid(), nn.GELU(), nn.Tanh()]\n",
    "accuracy_values = []\n",
    "\n",
    "for activation in activation_funcs:\n",
    "    fc_net = FCNet(activation=activation)\n",
    "    loss_function = nn.CrossEntropyLoss()\n",
    "    optimizer = torch.optim.Adam(fc_net.parameters(), lr=3e-4)\n",
    "    \n",
    "    print(f\"Activation is {activation.__class__.__name__}\")\n",
    "    \n",
    "    loss_history = []\n",
    "    \n",
    "    for epoch in range(n_epochs):\n",
    "        epoch_loss = 0\n",
    "        for images, labels in trainloader: # получаем батч тренировочных картинок\n",
    "            optimizer.zero_grad() # чтобы не было как в лог регрессии, когда мы не обнуляли градиенты\n",
    "            outputs = fc_net(images) # делаем предсказания\n",
    "            loss = loss_function(outputs, labels) # считаем лосс\n",
    "            loss.backward() # считаем градиенты\n",
    "            optimizer.step() # делаем шаг градиентного спуска\n",
    "    \n",
    "            epoch_loss += loss.item()\n",
    "\n",
    "        loss_history.append(epoch_loss/len(trainloader))\n",
    "        if epoch+1 in [1, 5, 10]:\n",
    "            print(f\"Epoch={epoch+1} loss={loss_history[epoch]:.4f}\")\n",
    "    \n",
    "    print(f\"Accuracy: {get_accuracy(fc_net, testloader)}\\n\")\n",
    "    accuracy_values.append(get_accuracy(fc_net, testloader))"
   ],
   "metadata": {
    "id": "GdvHSFeKa2sW",
    "ExecuteTime": {
     "end_time": "2024-05-25T11:36:16.793177Z",
     "start_time": "2024-05-25T11:34:49.794013Z"
    }
   },
   "outputs": [
    {
     "name": "stdout",
     "output_type": "stream",
     "text": [
      "Activation is Sigmoid\n",
      "Epoch=1 loss=1.5552\n",
      "Epoch=5 loss=0.3724\n",
      "Epoch=10 loss=0.1862\n",
      "Accuracy: 0.8562\n",
      "\n",
      "Activation is GELU\n",
      "Epoch=1 loss=0.6620\n",
      "Epoch=5 loss=0.1247\n",
      "Epoch=10 loss=0.0411\n",
      "Accuracy: 0.9043\n",
      "\n",
      "Activation is Tanh\n",
      "Epoch=1 loss=0.7713\n",
      "Epoch=5 loss=0.1363\n",
      "Epoch=10 loss=0.0303\n",
      "Accuracy: 0.8977\n",
      "\n"
     ]
    }
   ],
   "execution_count": 18
  },
  {
   "cell_type": "markdown",
   "source": [
    "С использованием какой функции активации удалось досчить наибольшей `accuracy`?"
   ],
   "metadata": {
    "id": "aG2Oyxy2egVV"
   }
  },
  {
   "metadata": {},
   "cell_type": "markdown",
   "source": "> С помощью функции активации `nn.GELU()`"
  },
  {
   "cell_type": "markdown",
   "source": [
    "### Задание 6. Другие оптимизаторы\n",
    "\n",
    "**4** балла\n",
    "\n",
    "Исследуйте влияние оптимизаторов на скорость обучения и точность предсказаний модели.\n",
    "\n",
    "Попробуйте следующие:\n",
    "\n",
    "* [Adam](https://pytorch.org/docs/stable/generated/torch.optim.Adam.html#torch.optim.Adam)\n",
    "* [RMSprop](https://pytorch.org/docs/stable/generated/torch.optim.RMSprop.html#torch.optim.RMSprop)\n",
    "* [Adagrad](https://pytorch.org/docs/stable/generated/torch.optim.Adagrad.html#torch.optim.Adagrad)\n",
    "\n",
    "Вам нужно снова обучить 3 модели и сравнить их перформанс (функцию активации используйте ту, которая показала себя лучше всего)."
   ],
   "metadata": {
    "id": "20Ls3Bfsifqd"
   }
  },
  {
   "cell_type": "code",
   "source": [
    "n_epochs = 10\n",
    "optimizers = [torch.optim.Adam, torch.optim.RMSprop, torch.optim.Adagrad]\n",
    "accuracy_values = []\n",
    "\n",
    "for optimizer in optimizers:\n",
    "    fc_net = FCNet(activation=nn.GELU())\n",
    "    loss_function = nn.CrossEntropyLoss()\n",
    "    optimizer = optimizer(fc_net.parameters(), lr=3e-4)\n",
    "    \n",
    "    print(f\"Optimizer is {optimizer.__class__.__name__}\")\n",
    "    \n",
    "    loss_history = []\n",
    "    \n",
    "    for epoch in range(n_epochs):\n",
    "        epoch_loss = 0\n",
    "        for images, labels in trainloader: # получаем батч тренировочных картинок\n",
    "            optimizer.zero_grad() # чтобы не было как в лог регрессии, когда мы не обнуляли градиенты\n",
    "            outputs = fc_net(images) # делаем предсказания\n",
    "            loss = loss_function(outputs, labels) # считаем лосс\n",
    "            loss.backward() # считаем градиенты\n",
    "            optimizer.step() # делаем шаг градиентного спуска\n",
    "    \n",
    "            epoch_loss += loss.item()\n",
    "\n",
    "        loss_history.append(epoch_loss/len(trainloader))\n",
    "        if epoch+1 in [1, 5, 10]:\n",
    "            print(f\"Epoch={epoch+1} loss={loss_history[epoch]:.4f}\")\n",
    "    \n",
    "    print(f\"Accuracy: {get_accuracy(fc_net, testloader)}\\n\")\n",
    "    accuracy_values.append(get_accuracy(fc_net, testloader))"
   ],
   "metadata": {
    "id": "rzL2LdA-ifJh",
    "ExecuteTime": {
     "end_time": "2024-05-25T11:37:42.720302Z",
     "start_time": "2024-05-25T11:36:16.793983Z"
    }
   },
   "outputs": [
    {
     "name": "stdout",
     "output_type": "stream",
     "text": [
      "Optimizer is Adam\n",
      "Epoch=1 loss=0.6654\n",
      "Epoch=5 loss=0.1200\n",
      "Epoch=10 loss=0.0371\n",
      "Accuracy: 0.9002\n",
      "\n",
      "Optimizer is RMSprop\n",
      "Epoch=1 loss=0.4397\n",
      "Epoch=5 loss=0.1046\n",
      "Epoch=10 loss=0.0307\n",
      "Accuracy: 0.8929\n",
      "\n",
      "Optimizer is Adagrad\n",
      "Epoch=1 loss=1.3422\n",
      "Epoch=5 loss=0.5807\n",
      "Epoch=10 loss=0.4866\n",
      "Accuracy: 0.725\n",
      "\n"
     ]
    }
   ],
   "execution_count": 19
  },
  {
   "metadata": {},
   "cell_type": "markdown",
   "source": "> Лучше всего показал себя оптимизатор `Adam`"
  },
  {
   "cell_type": "markdown",
   "source": [
    "### Задание 7. Реализация ReLU\n",
    "\n",
    "**4** балла\n",
    "\n",
    "Самостоятельно реализуйте функцию активации ReLU.\n",
    "Замените в уже обученной модели функцию активации на вашу. Убедитесь что ничего не изменилась."
   ],
   "metadata": {
    "id": "eHA48PsperxS"
   }
  },
  {
   "cell_type": "code",
   "source": [
    "class CustomReLU(nn.Module):\n",
    "    def __init__(self):\n",
    "        super().__init__()\n",
    "\n",
    "    def forward(self, x):\n",
    "        # если элемент x < 0, то 0, если >= 0, то x\n",
    "        x[x < 0] = 0\n",
    "\n",
    "        return x"
   ],
   "metadata": {
    "id": "63uTkUp-a2xr",
    "ExecuteTime": {
     "end_time": "2024-05-25T11:37:42.723176Z",
     "start_time": "2024-05-25T11:37:42.721066Z"
    }
   },
   "outputs": [],
   "execution_count": 20
  },
  {
   "cell_type": "markdown",
   "source": [
    "Заново обучите модель и проверьте правильность реализации `CustomReLU`."
   ],
   "metadata": {
    "id": "xsKzxa33fhbN"
   }
  },
  {
   "metadata": {
    "ExecuteTime": {
     "end_time": "2024-05-25T11:37:42.731467Z",
     "start_time": "2024-05-25T11:37:42.723792Z"
    }
   },
   "cell_type": "code",
   "source": [
    "fc_net = FCNet(activation=CustomReLU())\n",
    "loss_function = nn.CrossEntropyLoss()\n",
    "optimizer = torch.optim.Adam(fc_net.parameters(), lr=3e-4)"
   ],
   "outputs": [],
   "execution_count": 21
  },
  {
   "metadata": {
    "ExecuteTime": {
     "end_time": "2024-05-25T11:38:10.717249Z",
     "start_time": "2024-05-25T11:37:42.732273Z"
    }
   },
   "cell_type": "code",
   "source": [
    "n_epochs = 10\n",
    "loss_history = []\n",
    "for epoch in range(n_epochs):\n",
    "    epoch_loss = 0\n",
    "    for images, labels in trainloader: # получаем батч тренировочных картинок\n",
    "        optimizer.zero_grad() # чтобы не было как в лог регрессии, когда мы не обнуляли градиенты\n",
    "        outputs = fc_net(images) # делаем предсказания\n",
    "        loss = loss_function(outputs, labels) # считаем лосс\n",
    "        loss.backward() # считаем градиенты\n",
    "        optimizer.step() # делаем шаг градиентного спуска\n",
    "\n",
    "        epoch_loss += loss.item()\n",
    "\n",
    "    loss_history.append(epoch_loss/len(trainloader))\n",
    "\n",
    "    print(f\"Epoch={epoch+1} loss={loss_history[epoch]:.4f}\")"
   ],
   "outputs": [
    {
     "name": "stdout",
     "output_type": "stream",
     "text": [
      "Epoch=1 loss=0.6849\n",
      "Epoch=2 loss=0.3053\n",
      "Epoch=3 loss=0.2240\n",
      "Epoch=4 loss=0.1746\n",
      "Epoch=5 loss=0.1383\n",
      "Epoch=6 loss=0.1128\n",
      "Epoch=7 loss=0.0919\n",
      "Epoch=8 loss=0.0755\n",
      "Epoch=9 loss=0.0612\n",
      "Epoch=10 loss=0.0497\n"
     ]
    }
   ],
   "execution_count": 22
  },
  {
   "metadata": {
    "ExecuteTime": {
     "end_time": "2024-05-25T11:38:11.215018Z",
     "start_time": "2024-05-25T11:38:10.717975Z"
    }
   },
   "cell_type": "code",
   "source": "get_accuracy(fc_net, testloader)",
   "outputs": [
    {
     "data": {
      "text/plain": [
       "0.8979"
      ]
     },
     "execution_count": 23,
     "metadata": {},
     "output_type": "execute_result"
    }
   ],
   "execution_count": 23
  },
  {
   "metadata": {},
   "cell_type": "markdown",
   "source": "> Было `0.8942`, стало `0.8996`, зависит от рандома в батчах и кол-ва эпох, но в целом то же самое"
  },
  {
   "cell_type": "markdown",
   "source": [
    "### Задание 8. Генерация картинок\n",
    "\n",
    "**3** балла\n",
    "\n",
    "Придумайте 3 предложения и сгенерируйте при помощи них 3 картинки, используя телеграм бота [ruDALLE](https://t.me/sber_rudalle_xl_bot). Прикрепите сюда ваши картины."
   ],
   "metadata": {
    "id": "vWBG1mMwgN17"
   }
  },
  {
   "metadata": {},
   "cell_type": "markdown",
   "source": "У меня не запустился этот бот, поэтому я использовал вот этого https://t.me/gigachat_bot"
  },
  {
   "metadata": {},
   "cell_type": "markdown",
   "source": "![](data/kotik.jpg)"
  },
  {
   "metadata": {},
   "cell_type": "markdown",
   "source": "![](data/avocado.jpg)"
  },
  {
   "metadata": {},
   "cell_type": "markdown",
   "source": "![](data/sigma.jpg)"
  },
  {
   "metadata": {},
   "cell_type": "markdown",
   "source": ""
  }
 ]
}
