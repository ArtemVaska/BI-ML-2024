{
 "nbformat": 4,
 "nbformat_minor": 0,
 "metadata": {
  "colab": {
   "provenance": [],
   "authorship_tag": "ABX9TyN3ji5dthhFgQhP1CJ7JjiU",
   "include_colab_link": true
  },
  "kernelspec": {
   "name": "python3",
   "display_name": "Python 3"
  },
  "language_info": {
   "name": "python"
  }
 },
 "cells": [
  {
   "cell_type": "markdown",
   "metadata": {
    "id": "view-in-github",
    "colab_type": "text"
   },
   "source": [
    "<a href=\"https://colab.research.google.com/github/danon6868/BI-ml-2024/blob/main/lecture_8_pytorch/homework/FC_NN_practice.ipynb\" target=\"_parent\"><img src=\"https://colab.research.google.com/assets/colab-badge.svg\" alt=\"Open In Colab\"/></a>"
   ]
  },
  {
   "cell_type": "markdown",
   "source": [
    "Всем привет! Сегодня вы впервые попробуете написать свою собственную нейронную сеть и попробовать ее обучить. Мы будем работать с картинками, но пока что не совсем тем способом, которым лучше всего это делать, но должно получиться неплохо.\n",
    "\n",
    "Будем работать с [датасетом](https://github.com/rois-codh/kmnist) `Kuzushiji-MNIST` (`KMNIST`). Это рукописные буквы, изображения имеют размер (28, 28, 1) и разделены на 10 классов, по ссылке можно прочитать подробнее."
   ],
   "metadata": {
    "id": "-pSGPQS8Btmc"
   }
  },
  {
   "cell_type": "code",
   "source": [
    "import numpy as np\n",
    "import torch\n",
    "import matplotlib.pyplot as plt\n",
    "from IPython.display import clear_output"
   ],
   "metadata": {
    "id": "75HVAP_RFU7r"
   },
   "execution_count": null,
   "outputs": []
  },
  {
   "cell_type": "markdown",
   "source": [
    "## Загрузка данных"
   ],
   "metadata": {
    "id": "46iQ8ixtEruP"
   }
  },
  {
   "cell_type": "markdown",
   "source": [
    "Сейчас мы будем использовать встроенные данные, но в реальности приходится писать свой класс для датасета (Dataset), у которого реализовывать несколько обязательных методов (напр, `__getitem__`), но это обсудим уже потом."
   ],
   "metadata": {
    "id": "R6h1jVreJlV-"
   }
  },
  {
   "cell_type": "code",
   "execution_count": null,
   "metadata": {
    "id": "s9L9Z02o_1bK"
   },
   "source": [
    "import torchvision\n",
    "from torchvision.datasets import KMNIST\n",
    "\n",
    "\n",
    "# Превращает картинки в тензоры\n",
    "transform = torchvision.transforms.Compose(\n",
    "    [torchvision.transforms.ToTensor()])\n",
    "\n",
    "# Загрузим данные (в переменных лежат объекты типа `Dataset`)\n",
    "# В аргумент `transform` мы передаем необходимые трансформации (ToTensor)\n",
    "trainset = KMNIST(root=\"./KMNIST\", train=True, download=True, transform=transform)\n",
    "testset = KMNIST(root=\"./KMNIST\", train=False, download=True, transform=transform)\n",
    "\n",
    "clear_output()"
   ],
   "outputs": []
  },
  {
   "cell_type": "markdown",
   "source": [
    "Определим даталоадеры, они нужны, чтобы реализовывать стохастический градиентный спуск (то есть мы не хотим считывать в оперативную память все картинки сразу, а делать это батчами)."
   ],
   "metadata": {
    "id": "V83E2vDrO9CC"
   }
  },
  {
   "cell_type": "code",
   "source": [
    "from torch.utils.data import DataLoader\n",
    "\n",
    "\n",
    "# Можно оставить таким\n",
    "batch_size = 256\n",
    "\n",
    "trainloader = DataLoader(trainset, batch_size=batch_size, shuffle=True, num_workers=2)\n",
    "testloader = DataLoader(testset, batch_size=batch_size, shuffle=False, num_workers=2)"
   ],
   "metadata": {
    "id": "oqC8XO8pO8Px"
   },
   "execution_count": null,
   "outputs": []
  },
  {
   "cell_type": "markdown",
   "source": [
    "Подумайте, как может влиять на скорость обучения параметр `batch_size`, почему вы так считаете?\n",
    "\n",
    "**Ответ:**"
   ],
   "metadata": {
    "id": "-Ntp5sLoPyGx"
   }
  },
  {
   "cell_type": "markdown",
   "source": [
    "Посмотрим на какую-нибудь картинку:"
   ],
   "metadata": {
    "id": "t2vmM4KaHvrs"
   }
  },
  {
   "cell_type": "code",
   "source": [
    "plt.imshow(trainset[0][0].view(28, 28).numpy(), cmap=\"gray\")\n",
    "plt.axis(\"off\")\n",
    "plt.title(f\"Class is {trainset[0][1]}\", fontsize=16);"
   ],
   "metadata": {
    "colab": {
     "base_uri": "https://localhost:8080/",
     "height": 266
    },
    "id": "N-b-kFCYAoOP",
    "outputId": "d077a35b-f874-40c2-e1da-1f461c11172f"
   },
   "execution_count": null,
   "outputs": []
  },
  {
   "cell_type": "markdown",
   "source": [
    "### Задание 1. Смотрим на картинки\n",
    "\n",
    "**2** балла\n",
    "\n",
    "Нарисуйте на одном графике изображения всех 10 классов:"
   ],
   "metadata": {
    "id": "8_MSY231Hzz9"
   }
  },
  {
   "cell_type": "markdown",
   "source": [
    "⣿⣿⣿⣿⣿⣿⠿⢋⣥⣴⣶⣶⣶⣬⣙⠻⠟⣋⣭⣭⣭⣭⡙⠻⣿⣿⣿⣿⣿\n",
    "⣿⣿⣿⣿⡿⢋⣴⣿⣿⠿⢟⣛⣛⣛⠿⢷⡹⣿⣿⣿⣿⣿⣿⣆⠹⣿⣿⣿⣿\n",
    "⣿⣿⣿⡿⢁⣾⣿⣿⣴⣿⣿⣿⣿⠿⠿⠷⠥⠱⣶⣶⣶⣶⡶⠮⠤⣌⡙⢿⣿\n",
    "⣿⡿⢛⡁⣾⣿⣿⣿⡿⢟⡫⢕⣪⡭⠥⢭⣭⣉⡂⣉⡒⣤⡭⡉⠩⣥⣰⠂⠹\n",
    "⡟⢠⣿⣱⣿⣿⣿⣏⣛⢲⣾⣿⠃⠄⠐⠈⣿⣿⣿⣿⣿⣿⠄⠁⠃⢸⣿⣿⡧\n",
    "⢠⣿⣿⣿⣿⣿⣿⣿⣿⣇⣊⠙⠳⠤⠤⠾⣟⠛⠍⣹⣛⣛⣢⣀⣠⣛⡯⢉⣰\n",
    "⣿⣿⣿⣿⣿⣿⣿⣿⣿⣿⣿⣿⣷⡶⠶⢒⣠⣼⣿⣿⣛⠻⠛⢛⣛⠉⣴⣿⣿\n",
    "⣿⣿⣿⣿⣿⣿⣿⡿⢛⡛⢿⣿⣿⣶⣿⣿⣿⣿⣿⣿⣿⣿⣿⣿⣿⣷⡈⢿⣿\n",
    "⣿⣿⣿⣿⣿⣿⣿⠸⣿⡻⢷⣍⣛⠻⠿⠿⣿⣿⣿⣿⣿⣿⣿⣿⣿⠿⢇⡘⣿\n",
    "⣿⣿⣿⣿⣿⣿⣿⣷⣝⠻⠶⣬⣍⣛⣛⠓⠶⠶⠶⠤⠬⠭⠤⠶⠶⠞⠛⣡⣿\n",
    "⢿⣿⣿⣿⣿⣿⣿⣿⣿⣿⣷⣶⣬⣭⣍⣙⣛⣛⣛⠛⠛⠛⠿⠿⠿⠛⣠⣿⣿\n",
    "⣦⣈⠉⢛⠻⠿⠿⢿⣿⣿⣿⣿⣿⣿⣿⣿⣿⣿⣿⡿⠿⠛⣁⣴⣾⣿⣿⣿⣿\n",
    "⣿⣿⣿⣶⣮⣭⣁⣒⣒⣒⠂⠠⠬⠭⠭⠭⢀⣀⣠⣄⡘⠿⣿⣿⣿⣿⣿⣿⣿\n",
    "⣿⣿⣿⣿⣿⣿⣿⣿⣿⣿⣿⣿⣿⣿⣿⣿⣿⣿⣿⣿⣿⣦⡈⢿⣿⣿⣿⣿⣿\n",
    "\n",
    "\n",
    "\n"
   ],
   "metadata": {
    "id": "j0tNdHM5JS6l"
   }
  },
  {
   "cell_type": "code",
   "source": [],
   "metadata": {
    "id": "x3j6Bsu9AoT6"
   },
   "execution_count": null,
   "outputs": []
  },
  {
   "cell_type": "markdown",
   "source": [
    "### Задание 2. Строим свой первый MLP\n",
    "\n",
    "**4** балла\n",
    "\n",
    "MLP (multilayer perceptron) или нейронная сеть из полносвязных (линейных) слоев, это мы уже знаем.\n",
    "\n",
    "Опишите структуру сети: 3 полносвязных слоя + функции активации на ваш выбор. **Подумайте** про активацию после последнего слоя!\n",
    "\n",
    "Сеть на выходе 1 слоя должна иметь 256 признаков, на выходе из 2 128 признаков, на выходе из последнего столько, сколько у вас классов.\n",
    "\n",
    "https://pytorch.org/docs/stable/nn.html?highlight=activation#non-linear-activations-weighted-sum-nonlinearity"
   ],
   "metadata": {
    "id": "dLCfnFW-JtGx"
   }
  },
  {
   "cell_type": "code",
   "source": [
    "import torch.nn as nn\n",
    "\n",
    "class FCNet(nn.Module):\n",
    "    def __init__(self):\n",
    "        super().__init__() #  это надо помнить!\n",
    "        ## YOUR CODE HERE\n",
    "\n",
    "\n",
    "    def forward(self, x):  # Forward вызывается внутри метода __call__ родительского класса\n",
    "        ## x -> тензор размерности (BATCH_SIZE, N_CHANNELS, WIDTH, HEIGHT)\n",
    "        ## надо подумать над тем, что у нас полносвязные слои принимают векторы\n",
    "\n",
    "        ## YOUR CODE HERE\n",
    "\n",
    "        return logits"
   ],
   "metadata": {
    "id": "dhYBvQIXJdSz"
   },
   "execution_count": null,
   "outputs": []
  },
  {
   "cell_type": "markdown",
   "source": [
    "Сколько обучаемых параметров у вашей модели (весов и смещений)?\n",
    "\n",
    "**Ответ:**"
   ],
   "metadata": {
    "id": "uI0R77EQNKef"
   }
  },
  {
   "cell_type": "code",
   "source": [],
   "metadata": {
    "id": "MvGiuoykrzzJ"
   },
   "execution_count": null,
   "outputs": []
  },
  {
   "cell_type": "markdown",
   "source": [
    "### Задание 3. Напишите код для обучения модели\n",
    "\n",
    "**5** баллов\n",
    "\n",
    "Можно (и нужно) подглядывать в код семинара по пайторчу. Вам нужно создать модель, определить функцию потерь и оптимизатор (начнем с `SGD`). Дальше нужно обучать модель, при помощи тренировочного `Dataloader'a` и считать лосс на тренировочном и тестовом `Dataloader'ах`."
   ],
   "metadata": {
    "id": "iwGllji2M4lp"
   }
  },
  {
   "cell_type": "markdown",
   "source": [
    "Напишем функцию для рассчета `accuracy`:"
   ],
   "metadata": {
    "id": "Grv9xcybRfCX"
   }
  },
  {
   "cell_type": "code",
   "source": [
    "def get_accuracy(model, dataloader):\n",
    "    \"\"\"\n",
    "    model - обученная нейронная сеть\n",
    "    dataloader - даталоадер, на котором вы хотите посчитать accuracy\n",
    "    \"\"\"\n",
    "    correct = 0\n",
    "    total = 0\n",
    "    with torch.no_grad(): # Тензоры внутри этого блока будут иметь requires_grad=False\n",
    "        for images, labels in dataloader:\n",
    "            outputs = model(images)\n",
    "            _, predicted = torch.max(outputs.data, 1)\n",
    "            total += labels.size(0)\n",
    "            correct += (predicted == labels).sum().item()\n",
    "    accuracy = correct / total\n",
    "\n",
    "    return accuracy"
   ],
   "metadata": {
    "id": "9D2QPFe5JdVc"
   },
   "execution_count": null,
   "outputs": []
  },
  {
   "cell_type": "markdown",
   "source": [
    "#### Основной цикл обучения\n",
    "\n",
    "Этот код можно (и зачастую нужно) выносить в отдельную функцию, но пока что можете это не делать, все по желанию)"
   ],
   "metadata": {
    "id": "D3EmoWJyTBkE"
   }
  },
  {
   "cell_type": "code",
   "source": [
    "# Создадим объект модели\n",
    "fc_net = FCNet()\n",
    "# Определим функцию потерь\n",
    "loss_function = nn.CrossEntropyLoss()\n",
    "# Создадим оптимизатор для нашей сети\n",
    "lr = 0.001 # скорость обучения\n",
    "optimizer = torch.optim.Adam(fc_net.parameters(), lr=3e-4)"
   ],
   "metadata": {
    "id": "uIZKSOdgUi3e"
   },
   "execution_count": null,
   "outputs": []
  },
  {
   "cell_type": "markdown",
   "source": [
    "Напишите цикл обучения. Для начала хватит 10 эпох. Какое значение `accuracy` на тестовой выборке удалось получить?"
   ],
   "metadata": {
    "id": "uKYzXFqoX_fd"
   }
  },
  {
   "cell_type": "code",
   "source": [
    "n_epochs = 10\n",
    "loss_history = []\n",
    "\n",
    "## YOUR CODE HERE\n"
   ],
   "metadata": {
    "id": "Ma2bshC6MxI6"
   },
   "execution_count": null,
   "outputs": []
  },
  {
   "cell_type": "code",
   "source": [
    "get_accuracy(fc_net, testloader)"
   ],
   "metadata": {
    "id": "2cB5LRbrS3BN"
   },
   "execution_count": null,
   "outputs": []
  },
  {
   "cell_type": "markdown",
   "source": [
    "### Задание 4. Изучение влияния нормализации\n",
    "\n",
    "**3** балла\n",
    "\n",
    "Вы могли заметить, что мы забыли провести нормализацию наших данных, а для нейронных сетей это может быть очень критично.\n",
    "\n",
    "Нормализуйте данные.\n",
    "\n",
    "* Подсчитайте среднее значение и стандартное отклонение интенсивности пикселей для всех тренировочных данных\n",
    "* Нормализуйте данные с использованием этих параметров (используйте трансформацию `Normalize`)\n",
    "\n",
    "\n",
    "Оцените влияние нормировки данных."
   ],
   "metadata": {
    "id": "4HTJzBM8Yk1R"
   }
  },
  {
   "cell_type": "code",
   "source": [
    "mean = ... ## calculate mean\n",
    "std = ... ## calculate std\n",
    "print(mean, std)\n",
    "\n",
    "transform_with_norm = torchvision.transforms.Compose([\n",
    "                torchvision.transforms.ToTensor(),\n",
    "                torchvision.transforms.Normalize(mean, std)\n",
    "            ])\n",
    "\n",
    "trainset.transform = transform_with_norm\n",
    "testset.transform = transform_with_norm"
   ],
   "metadata": {
    "id": "FHlDaYWGR6YA"
   },
   "execution_count": null,
   "outputs": []
  },
  {
   "cell_type": "code",
   "source": [
    "fc_net = FCNet()\n",
    "loss_function = nn.CrossEntropyLoss()\n",
    "lr = 0.001\n",
    "optimizer = torch.optim.Adam(fc_net.parameters(), lr=3e-4)"
   ],
   "metadata": {
    "id": "Qj93J3X_R6aa"
   },
   "execution_count": null,
   "outputs": []
  },
  {
   "cell_type": "code",
   "source": [
    "n_epochs = 10\n",
    "loss_history = []\n",
    "\n",
    "## YOUR CODE HERE\n"
   ],
   "metadata": {
    "id": "VWZtYBCvAoWQ"
   },
   "execution_count": null,
   "outputs": []
  },
  {
   "cell_type": "code",
   "source": [
    "get_accuracy(fc_net, testloader)"
   ],
   "metadata": {
    "id": "Gfbv9OIAAoYT"
   },
   "execution_count": null,
   "outputs": []
  },
  {
   "cell_type": "markdown",
   "source": [
    "Как изменилась `accuracy` после нормализации?"
   ],
   "metadata": {
    "id": "RcIJvhWkcjlh"
   }
  },
  {
   "cell_type": "code",
   "source": [],
   "metadata": {
    "id": "G1LHKF2PsZ4U"
   },
   "execution_count": null,
   "outputs": []
  },
  {
   "cell_type": "markdown",
   "source": [
    "### Задание 5. Изучение влияния функции активации\n",
    "\n",
    "**3** балла\n",
    "\n",
    "Исследуйте влияние функций активации на скорость обучения и точность предсказаний модели.\n",
    "\n",
    "Используйте три функции:\n",
    "\n",
    "* [Sigmoid](https://pytorch.org/docs/stable/nn.functional.html#sigmoid)\n",
    "* [GELU](https://pytorch.org/docs/stable/nn.functional.html#gelu)\n",
    "* [Tanh](https://pytorch.org/docs/stable/generated/torch.nn.Tanh.html#torch.nn.Tanh)"
   ],
   "metadata": {
    "id": "atcfzu4acxP2"
   }
  },
  {
   "cell_type": "code",
   "source": [
    "## YOUR CODE HERE\n"
   ],
   "metadata": {
    "id": "bAESPpjGa3M1"
   },
   "execution_count": null,
   "outputs": []
  },
  {
   "cell_type": "code",
   "source": [
    "n_epochs = 10\n",
    "loss_history = []\n",
    "\n",
    "## YOUR CODE HERE\n"
   ],
   "metadata": {
    "id": "GdvHSFeKa2sW"
   },
   "execution_count": null,
   "outputs": []
  },
  {
   "cell_type": "code",
   "source": [
    "get_accuracy(fc_net, testloader)"
   ],
   "metadata": {
    "id": "zBok8pXNa2vA"
   },
   "execution_count": null,
   "outputs": []
  },
  {
   "cell_type": "markdown",
   "source": [
    "С использованием какой функции активации удалось досчить наибольшей `accuracy`?"
   ],
   "metadata": {
    "id": "aG2Oyxy2egVV"
   }
  },
  {
   "cell_type": "code",
   "source": [],
   "metadata": {
    "id": "5SaqWhlkjuO3"
   },
   "execution_count": null,
   "outputs": []
  },
  {
   "cell_type": "markdown",
   "source": [
    "### Задание 6. Другие оптимизаторы\n",
    "\n",
    "**4** балла\n",
    "\n",
    "Исследуйте влияние оптимизаторов на скорость обучения и точность предсказаний модели.\n",
    "\n",
    "Попробуйте следующие:\n",
    "\n",
    "* [Adam](https://pytorch.org/docs/stable/generated/torch.optim.Adam.html#torch.optim.Adam)\n",
    "* [RMSprop](https://pytorch.org/docs/stable/generated/torch.optim.RMSprop.html#torch.optim.RMSprop)\n",
    "* [Adagrad](https://pytorch.org/docs/stable/generated/torch.optim.Adagrad.html#torch.optim.Adagrad)\n",
    "\n",
    "Вам нужно снова обучить 3 модели и сравнить их перформанс (функцию активации используйте ту, которая показала себя лучше всего)."
   ],
   "metadata": {
    "id": "20Ls3Bfsifqd"
   }
  },
  {
   "cell_type": "code",
   "source": [],
   "metadata": {
    "id": "rzL2LdA-ifJh"
   },
   "execution_count": null,
   "outputs": []
  },
  {
   "cell_type": "markdown",
   "source": [
    "### Задание 7. Реализация ReLU\n",
    "\n",
    "**4** балла\n",
    "\n",
    "Самостоятельно реализуйте функцию активации ReLU.\n",
    "Замените в уже обученной модели функцию активации на вашу. Убедитесь что ничего не изменилась."
   ],
   "metadata": {
    "id": "eHA48PsperxS"
   }
  },
  {
   "cell_type": "code",
   "source": [
    "class CustomReLU(nn.Module):\n",
    "    def __init__(self):\n",
    "        super().__init__()\n",
    "\n",
    "    def forward(self, x):\n",
    "        # YOUR CODE HERE\n",
    "        # если элемент x < 0, то 0, если >= 0, то x\n",
    "\n",
    "        return x"
   ],
   "metadata": {
    "id": "63uTkUp-a2xr"
   },
   "execution_count": null,
   "outputs": []
  },
  {
   "cell_type": "markdown",
   "source": [
    "Заново обучите модель и проверьте правильность реализации `CustomReLU`."
   ],
   "metadata": {
    "id": "xsKzxa33fhbN"
   }
  },
  {
   "cell_type": "code",
   "source": [],
   "metadata": {
    "id": "ePP55RBeecYh"
   },
   "execution_count": null,
   "outputs": []
  },
  {
   "cell_type": "markdown",
   "source": [
    "### Задание 8. Генерация картинок\n",
    "\n",
    "**3** балла\n",
    "\n",
    "Придумайте 3 предложения и сгенерируйте при помощи них 3 картинки, используя телеграм бота [ruDALLE](https://t.me/sber_rudalle_xl_bot). Прикрепите сюда ваши картины."
   ],
   "metadata": {
    "id": "vWBG1mMwgN17"
   }
  },
  {
   "cell_type": "code",
   "source": [],
   "metadata": {
    "id": "hlqgll9qecdZ"
   },
   "execution_count": null,
   "outputs": []
  }
 ]
}
